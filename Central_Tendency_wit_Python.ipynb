{
  "nbformat": 4,
  "nbformat_minor": 0,
  "metadata": {
    "kernelspec": {
      "display_name": "Python 3",
      "language": "python",
      "name": "python3"
    },
    "language_info": {
      "codemirror_mode": {
        "name": "ipython",
        "version": 3
      },
      "file_extension": ".py",
      "mimetype": "text/x-python",
      "name": "python",
      "nbconvert_exporter": "python",
      "pygments_lexer": "ipython3",
      "version": "3.7.6"
    },
    "colab": {
      "name": "Central Tendency wit Python.ipynb",
      "provenance": [],
      "collapsed_sections": [],
      "include_colab_link": true
    }
  },
  "cells": [
    {
      "cell_type": "markdown",
      "metadata": {
        "id": "view-in-github",
        "colab_type": "text"
      },
      "source": [
        "<a href=\"https://colab.research.google.com/github/arpitag1/DataAnalysis_withPython/blob/master/Central_Tendency_wit_Python.ipynb\" target=\"_parent\"><img src=\"https://colab.research.google.com/assets/colab-badge.svg\" alt=\"Open In Colab\"/></a>"
      ]
    },
    {
      "cell_type": "code",
      "metadata": {
        "id": "LR1IWdl6V7cI"
      },
      "source": [
        "import pandas as pd\n",
        "import numpy as np\n",
        "import matplotlib.pyplot as plt\n",
        "import seaborn as sns\n",
        "%matplotlib inline\n",
        "from matplotlib.ticker import PercentFormatter"
      ],
      "execution_count": null,
      "outputs": []
    },
    {
      "cell_type": "markdown",
      "metadata": {
        "id": "-WbY-MsuV7cp"
      },
      "source": [
        "# Univariate Measures (Central Tendency)"
      ]
    },
    {
      "cell_type": "code",
      "metadata": {
        "id": "N4VfszQeV7cr"
      },
      "source": [
        "df_um= pd.DataFrame({'Annual Income': [62000,64000,49000,324000,1264000,54330,64000,51000,55000,48000,53000]})\n",
        "df_um"
      ],
      "execution_count": null,
      "outputs": []
    },
    {
      "cell_type": "code",
      "metadata": {
        "id": "IsXT3HkhV7ct"
      },
      "source": [
        "#Mean :The mean is the most widely spread measure of central tendency. It is the simple average of the dataset.\n",
        "print(\"Mean\", df_um.mean(axis=0))"
      ],
      "execution_count": null,
      "outputs": []
    },
    {
      "cell_type": "code",
      "metadata": {
        "id": "eYnJSq9lV7cu"
      },
      "source": [
        "# Median: Mid point of ordered data. Number at position (n+1)/2. \n",
        "#If this position is not a whole number then avg of two numbers at positions closed to calculated value.\n",
        "print(\"Median\", df_um.median(axis=0))"
      ],
      "execution_count": null,
      "outputs": []
    },
    {
      "cell_type": "code",
      "metadata": {
        "id": "_fDtEybxV7cv"
      },
      "source": [
        "# Mode: = Value occurs most often. = value with highest frequency. 0 mode, 1 or multimode\n",
        "print(\"Median\", df_um.mode(axis=0))"
      ],
      "execution_count": null,
      "outputs": []
    },
    {
      "cell_type": "code",
      "metadata": {
        "id": "slcJj0_mV7cw"
      },
      "source": [
        "#Finally, there are certain individuals that are earn much more than others. They are the outliers. \n",
        "#Usually, whenever we have research on income, we use the median income, instead of the mean income."
      ],
      "execution_count": null,
      "outputs": []
    },
    {
      "cell_type": "code",
      "metadata": {
        "id": "CcGAqeMTV7cx"
      },
      "source": [
        "# Skewness: Measure of asymmetry indicates whether observations in a data set are concentrated on one side\n",
        "df_skw1=pd.DataFrame({'Dataset1':[212,869,220,654,511,624,420,121,428,865,799,405,230,670,870,366,99,\n",
        "                                  5,489,312,493,163,221,84,144,48,375,86,168,100]})"
      ],
      "execution_count": null,
      "outputs": []
    },
    {
      "cell_type": "code",
      "metadata": {
        "id": "d1hJSMVMV7cy"
      },
      "source": [
        "df_skw1.plot(kind = 'density')\n",
        "print('This distribution has skew', df_skw1.skew())"
      ],
      "execution_count": null,
      "outputs": []
    },
    {
      "cell_type": "code",
      "metadata": {
        "id": "TpWf1e4wV7cz"
      },
      "source": [
        "# Right (positive) skewness looks like the one in the graph. \n",
        "# It means that the outliers are to the right (long tail to the right).\n",
        "# Left (negative) skewness means that the outliers are to the left."
      ],
      "execution_count": null,
      "outputs": []
    },
    {
      "cell_type": "code",
      "metadata": {
        "id": "Cwe3BGYrV7c2"
      },
      "source": [
        "# Variance and standard deviation measure the dispersion of a set of data points around its mean value\n",
        "print(\"Variance\", df_um.var(axis=0))"
      ],
      "execution_count": null,
      "outputs": []
    },
    {
      "cell_type": "code",
      "metadata": {
        "id": "nFgroxuUV7c4"
      },
      "source": [
        "print(\"Standard Deviation\", df_um.std(axis=0))"
      ],
      "execution_count": null,
      "outputs": []
    },
    {
      "cell_type": "code",
      "metadata": {
        "id": "FhBPsJUJV7c5"
      },
      "source": [
        "# Coefficient of variation = standard deviation / mean\n",
        "print(\"Coefficient of variation\",df_um.std(axis=0)/df_um.mean(axis=0) )"
      ],
      "execution_count": null,
      "outputs": []
    },
    {
      "cell_type": "markdown",
      "metadata": {
        "id": "aSwa6ZM2V7c5"
      },
      "source": [
        "# Measures of Relationship between variables"
      ]
    },
    {
      "cell_type": "code",
      "metadata": {
        "id": "xN8x3J3SV7c6"
      },
      "source": [
        "# Covariance: Measure of the joint variability of two variables\n",
        "        # +cov -> two variables move together\n",
        "        # 0 cov -> two variables independent\n",
        "        # -cov -> tw variables move in opposite\n",
        "        # values = - infinite value to + infinite value"
      ],
      "execution_count": null,
      "outputs": []
    },
    {
      "cell_type": "code",
      "metadata": {
        "id": "fhcMoEwvV7c7"
      },
      "source": [
        "df_multi=pd.DataFrame({'Writing':[344,383,611,713,536], 'Reading':[378,349,503,719,503]})"
      ],
      "execution_count": null,
      "outputs": []
    },
    {
      "cell_type": "code",
      "metadata": {
        "id": "w4MdkQBDV7c8"
      },
      "source": [
        "df_multi.mean(axis=0)"
      ],
      "execution_count": null,
      "outputs": []
    },
    {
      "cell_type": "code",
      "metadata": {
        "id": "5XIja0bsV7c8"
      },
      "source": [
        "print(\"Covariance\", df_multi.cov())"
      ],
      "execution_count": null,
      "outputs": []
    },
    {
      "cell_type": "code",
      "metadata": {
        "id": "lrNPawOLV7c9"
      },
      "source": [
        "x=df_multi['Writing']\n",
        "y=df_multi['Reading']\n",
        "plt.scatter(x,y)\n",
        "plt.xlabel('Writing')\n",
        "plt.ylabel('Reading')\n",
        "plt.title('Writing vs. Reading')\n",
        "plt.show()"
      ],
      "execution_count": null,
      "outputs": []
    },
    {
      "cell_type": "code",
      "metadata": {
        "id": "yqQ4Ff-XV7c-"
      },
      "source": [
        "y1=df_multi['Writing']\n",
        "x1=df_multi['Reading']\n",
        "plt.scatter(x1,y1)\n",
        "plt.ylabel('Writing')\n",
        "plt.xlabel('Reading')\n",
        "plt.title('Reading vs Writing')\n",
        "plt.show()"
      ],
      "execution_count": null,
      "outputs": []
    },
    {
      "cell_type": "code",
      "metadata": {
        "id": "PdJYkZJCV7c-"
      },
      "source": [
        "# Correlation : Correlation is a measure of the joint variability of two variables.\n",
        "#Unlike covariance, correlation could be thought of as a standardized measure. It takes on values between -1 and 1, thus\n",
        "#it is easy for us to interpret the result.\n",
        "# A correlation of 1, known as perfect positive correlation,means that one variable is perfectly explained by the other.\n",
        "# A correlation of 0 means that the variables are independent.\n",
        "# A correlation of -1, known as perfect negative correlation,means that one variable is explaining the other one\n",
        "# perfectly, but they move in opposite directions."
      ],
      "execution_count": null,
      "outputs": []
    },
    {
      "cell_type": "code",
      "metadata": {
        "id": "2NP8UDWAV7c_"
      },
      "source": [
        "print(\"Corelation\", df_multi.corr())"
      ],
      "execution_count": null,
      "outputs": []
    }
  ]
}